{
 "cells": [
  {
   "cell_type": "code",
   "execution_count": 33,
   "id": "5ed5cb37",
   "metadata": {},
   "outputs": [],
   "source": [
    "import os\n",
    "import matplotlib.pyplot as plt\n",
    "\n",
    "# Create folder for plots\n",
    "PLOT_DIR = \"plots\"\n",
    "os.makedirs(PLOT_DIR, exist_ok=True)\n",
    "\n",
    "def save_plot(fig, filename):\n",
    "    \"\"\"\n",
    "    Save a Matplotlib figure to the plots/ folder.\n",
    "    \"\"\"\n",
    "    filepath = f\"{PLOT_DIR}/{filename}.png\"\n",
    "    fig.savefig(filepath, bbox_inches=\"tight\")\n",
    "    print(f\"✅ Saved plot: {filepath}\")"
   ]
  },
  {
   "cell_type": "code",
   "execution_count": 34,
   "id": "a986cb6f",
   "metadata": {},
   "outputs": [
    {
     "name": "stdout",
     "output_type": "stream",
     "text": [
      "Plots will be saved in: plots\n"
     ]
    }
   ],
   "source": [
    "import os\n",
    "\n",
    "PLOT_DIR = \"plots\"\n",
    "os.makedirs(PLOT_DIR, exist_ok=True)\n",
    "\n",
    "print(\"Plots will be saved in:\", PLOT_DIR)"
   ]
  },
  {
   "cell_type": "code",
   "execution_count": 2,
   "id": "b255afa9",
   "metadata": {},
   "outputs": [],
   "source": [
    "import sys, os, pandas as pd, numpy as np, matplotlib.pyplot as plt\n",
    "sys.path.append(os.path.abspath(\"..\"))\n",
    "from src.utils import clean_column_names\n",
    "\n",
    "RAW_PATH = \"../data/raw/ecommerce.csv\"\n",
    "df = pd.read_csv(RAW_PATH, encoding=\"ISO-8859-1\")\n",
    "df = clean_column_names(df)\n",
    "df[\"invoicedate\"] = pd.to_datetime(df[\"invoicedate\"], errors=\"coerce\")\n",
    "df[\"line_total\"] = df[\"quantity\"] * df[\"unitprice\"]"
   ]
  },
  {
   "cell_type": "code",
   "execution_count": 4,
   "id": "1860d5ab",
   "metadata": {},
   "outputs": [
    {
     "data": {
      "text/plain": [
       "{'total_revenue': 10619986.684,\n",
       " 'aov': 512.3498014280201,\n",
       " 'unique_customers': 4339,\n",
       " 'repeat_customers': 2845,\n",
       " 'return_rate_pct': 8.417898784627138}"
      ]
     },
     "execution_count": 4,
     "metadata": {},
     "output_type": "execute_result"
    }
   ],
   "source": [
    "# Separate sales and returns\n",
    "df = df.drop_duplicates() \n",
    "sales = df[df[\"quantity\"] > 0].copy()\n",
    "returns = df[df[\"quantity\"] < 0].copy()\n",
    "\n",
    "sales.shape, returns.shape\n",
    "\n",
    "kpis = {\n",
    "    \"total_revenue\": sales[\"line_total\"].sum(),\n",
    "    \"aov\": sales.groupby(\"invoiceno\")[\"line_total\"].sum().mean(),\n",
    "    \"unique_customers\": sales[\"customerid\"].nunique(),\n",
    "    \"repeat_customers\": sales.groupby(\"customerid\")[\"invoiceno\"].nunique().gt(1).sum(),\n",
    "    \"return_rate_pct\": abs(returns[\"line_total\"].sum()) / sales[\"line_total\"].sum() * 100,\n",
    "}\n",
    "kpis"
   ]
  },
  {
   "cell_type": "code",
   "execution_count": 6,
   "id": "eae0f35f",
   "metadata": {},
   "outputs": [
    {
     "data": {
      "text/markdown": [
       "\n",
       "### 📊 E-commerce KPI Summary\n",
       "\n",
       "**Total Revenue:** £10,619,986.68  \n",
       "**Average Order Value (AOV):** £512.35  \n",
       "**Unique Customers:** 4,339  \n",
       "**Repeat Customers:** 2,845  \n",
       "**Return Rate:** 8.42%  \n",
       "\n",
       "**Top Countries by Revenue:** n/a, n/a, n/a\n",
       "\n",
       "---\n",
       "\n",
       "**Data health**\n",
       "- Sales rows: 526,054\n",
       "- Return rows: 10,587\n",
       "- Returns as % of sales value: 8.42%\n"
      ],
      "text/plain": [
       "<IPython.core.display.Markdown object>"
      ]
     },
     "metadata": {},
     "output_type": "display_data"
    }
   ],
   "source": [
    "from IPython.display import Markdown, display\n",
    "import math\n",
    "\n",
    "def fmt_money(x): \n",
    "    try:\n",
    "        return f\"£{x:,.2f}\"\n",
    "    except Exception:\n",
    "        return \"£0.00\"\n",
    "\n",
    "def safe_top3(idx):\n",
    "    names = list(idx[:3])\n",
    "    names += [\"n/a\"] * (3 - len(names))\n",
    "    return names\n",
    "\n",
    "c1, c2, c3 = safe_top3(country_rev.index if 'country_rev' in globals() else [])\n",
    "\n",
    "report_md = f\"\"\"\n",
    "### 📊 E-commerce KPI Summary\n",
    "\n",
    "**Total Revenue:** {fmt_money(kpis.get('total_revenue', 0))}  \n",
    "**Average Order Value (AOV):** {fmt_money(kpis.get('aov', 0))}  \n",
    "**Unique Customers:** {kpis.get('unique_customers', 0):,}  \n",
    "**Repeat Customers:** {kpis.get('repeat_customers', 0):,}  \n",
    "**Return Rate:** {kpis.get('return_rate_pct', 0):.2f}%  \n",
    "\n",
    "**Top Countries by Revenue:** {c1}, {c2}, {c3}\n",
    "\n",
    "---\n",
    "\n",
    "**Data health**\n",
    "- Sales rows: {len(sales):,}\n",
    "- Return rows: {len(returns):,}\n",
    "- Returns as % of sales value: {kpis.get('return_rate_pct', 0):.2f}%\n",
    "\"\"\"\n",
    "\n",
    "display(Markdown(report_md))"
   ]
  },
  {
   "cell_type": "code",
   "execution_count": 8,
   "id": "ea830574",
   "metadata": {},
   "outputs": [
    {
     "data": {
      "text/html": [
       "<div>\n",
       "<style scoped>\n",
       "    .dataframe tbody tr th:only-of-type {\n",
       "        vertical-align: middle;\n",
       "    }\n",
       "\n",
       "    .dataframe tbody tr th {\n",
       "        vertical-align: top;\n",
       "    }\n",
       "\n",
       "    .dataframe thead th {\n",
       "        text-align: right;\n",
       "    }\n",
       "</style>\n",
       "<table border=\"1\" class=\"dataframe\">\n",
       "  <thead>\n",
       "    <tr style=\"text-align: right;\">\n",
       "      <th></th>\n",
       "      <th>country</th>\n",
       "      <th>revenue</th>\n",
       "    </tr>\n",
       "  </thead>\n",
       "  <tbody>\n",
       "    <tr>\n",
       "      <th>0</th>\n",
       "      <td>United Kingdom</td>\n",
       "      <td>£8,979,620</td>\n",
       "    </tr>\n",
       "    <tr>\n",
       "      <th>1</th>\n",
       "      <td>Netherlands</td>\n",
       "      <td>£285,446</td>\n",
       "    </tr>\n",
       "    <tr>\n",
       "      <th>2</th>\n",
       "      <td>EIRE</td>\n",
       "      <td>£283,141</td>\n",
       "    </tr>\n",
       "    <tr>\n",
       "      <th>3</th>\n",
       "      <td>Germany</td>\n",
       "      <td>£228,678</td>\n",
       "    </tr>\n",
       "    <tr>\n",
       "      <th>4</th>\n",
       "      <td>France</td>\n",
       "      <td>£209,625</td>\n",
       "    </tr>\n",
       "    <tr>\n",
       "      <th>5</th>\n",
       "      <td>Australia</td>\n",
       "      <td>£138,454</td>\n",
       "    </tr>\n",
       "    <tr>\n",
       "      <th>6</th>\n",
       "      <td>Spain</td>\n",
       "      <td>£61,559</td>\n",
       "    </tr>\n",
       "    <tr>\n",
       "      <th>7</th>\n",
       "      <td>Switzerland</td>\n",
       "      <td>£57,068</td>\n",
       "    </tr>\n",
       "    <tr>\n",
       "      <th>8</th>\n",
       "      <td>Belgium</td>\n",
       "      <td>£41,196</td>\n",
       "    </tr>\n",
       "    <tr>\n",
       "      <th>9</th>\n",
       "      <td>Sweden</td>\n",
       "      <td>£38,368</td>\n",
       "    </tr>\n",
       "  </tbody>\n",
       "</table>\n",
       "</div>"
      ],
      "text/plain": [
       "          country     revenue\n",
       "0  United Kingdom  £8,979,620\n",
       "1     Netherlands    £285,446\n",
       "2            EIRE    £283,141\n",
       "3         Germany    £228,678\n",
       "4          France    £209,625\n",
       "5       Australia    £138,454\n",
       "6           Spain     £61,559\n",
       "7     Switzerland     £57,068\n",
       "8         Belgium     £41,196\n",
       "9          Sweden     £38,368"
      ]
     },
     "execution_count": 8,
     "metadata": {},
     "output_type": "execute_result"
    }
   ],
   "source": [
    "country_rev = (\n",
    "    sales.groupby(\"country\")[\"line_total\"]\n",
    "    .sum()\n",
    "    .sort_values(ascending=False)\n",
    ")\n",
    "\n",
    "country_rev.head(10)\n",
    "\n",
    "(country_rev.head(10)\n",
    " .reset_index()\n",
    " .rename(columns={\"index\":\"country\",\"line_total\":\"revenue\"})\n",
    " .assign(revenue=lambda d: d[\"revenue\"].map(lambda v: f\"£{v:,.0f}\")))"
   ]
  },
  {
   "cell_type": "code",
   "execution_count": 9,
   "id": "dc9e62a4",
   "metadata": {},
   "outputs": [
    {
     "data": {
      "text/plain": [
       "customerid\n",
       "14646.0    280206.02\n",
       "18102.0    259657.30\n",
       "17450.0    194390.79\n",
       "16446.0    168472.50\n",
       "14911.0    143711.17\n",
       "12415.0    124914.53\n",
       "14156.0    117210.08\n",
       "17511.0     91062.38\n",
       "16029.0     80850.84\n",
       "12346.0     77183.60\n",
       "Name: line_total, dtype: float64"
      ]
     },
     "execution_count": 9,
     "metadata": {},
     "output_type": "execute_result"
    }
   ],
   "source": [
    "top_customers = (\n",
    "    sales.groupby(\"customerid\")[\"line_total\"]\n",
    "    .sum()\n",
    "    .sort_values(ascending=False)\n",
    "    .head(10)\n",
    ")\n",
    "\n",
    "top_customers"
   ]
  },
  {
   "cell_type": "code",
   "execution_count": 10,
   "id": "11a0fbe5",
   "metadata": {},
   "outputs": [
    {
     "data": {
      "text/html": [
       "<div>\n",
       "<style scoped>\n",
       "    .dataframe tbody tr th:only-of-type {\n",
       "        vertical-align: middle;\n",
       "    }\n",
       "\n",
       "    .dataframe tbody tr th {\n",
       "        vertical-align: top;\n",
       "    }\n",
       "\n",
       "    .dataframe thead th {\n",
       "        text-align: right;\n",
       "    }\n",
       "</style>\n",
       "<table border=\"1\" class=\"dataframe\">\n",
       "  <thead>\n",
       "    <tr style=\"text-align: right;\">\n",
       "      <th></th>\n",
       "      <th>customerid</th>\n",
       "      <th>Revenue</th>\n",
       "    </tr>\n",
       "  </thead>\n",
       "  <tbody>\n",
       "    <tr>\n",
       "      <th>0</th>\n",
       "      <td>14646.0</td>\n",
       "      <td>£280,206</td>\n",
       "    </tr>\n",
       "    <tr>\n",
       "      <th>1</th>\n",
       "      <td>18102.0</td>\n",
       "      <td>£259,657</td>\n",
       "    </tr>\n",
       "    <tr>\n",
       "      <th>2</th>\n",
       "      <td>17450.0</td>\n",
       "      <td>£194,391</td>\n",
       "    </tr>\n",
       "    <tr>\n",
       "      <th>3</th>\n",
       "      <td>16446.0</td>\n",
       "      <td>£168,472</td>\n",
       "    </tr>\n",
       "    <tr>\n",
       "      <th>4</th>\n",
       "      <td>14911.0</td>\n",
       "      <td>£143,711</td>\n",
       "    </tr>\n",
       "    <tr>\n",
       "      <th>5</th>\n",
       "      <td>12415.0</td>\n",
       "      <td>£124,915</td>\n",
       "    </tr>\n",
       "    <tr>\n",
       "      <th>6</th>\n",
       "      <td>14156.0</td>\n",
       "      <td>£117,210</td>\n",
       "    </tr>\n",
       "    <tr>\n",
       "      <th>7</th>\n",
       "      <td>17511.0</td>\n",
       "      <td>£91,062</td>\n",
       "    </tr>\n",
       "    <tr>\n",
       "      <th>8</th>\n",
       "      <td>16029.0</td>\n",
       "      <td>£80,851</td>\n",
       "    </tr>\n",
       "    <tr>\n",
       "      <th>9</th>\n",
       "      <td>12346.0</td>\n",
       "      <td>£77,184</td>\n",
       "    </tr>\n",
       "  </tbody>\n",
       "</table>\n",
       "</div>"
      ],
      "text/plain": [
       "   customerid   Revenue\n",
       "0     14646.0  £280,206\n",
       "1     18102.0  £259,657\n",
       "2     17450.0  £194,391\n",
       "3     16446.0  £168,472\n",
       "4     14911.0  £143,711\n",
       "5     12415.0  £124,915\n",
       "6     14156.0  £117,210\n",
       "7     17511.0   £91,062\n",
       "8     16029.0   £80,851\n",
       "9     12346.0   £77,184"
      ]
     },
     "execution_count": 10,
     "metadata": {},
     "output_type": "execute_result"
    }
   ],
   "source": [
    "(\n",
    "    top_customers.reset_index()\n",
    "    .rename(columns={\"customer_id\": \"Customer ID\", \"line_total\": \"Revenue\"})\n",
    "    .assign(Revenue=lambda d: d[\"Revenue\"].map(lambda v: f\"£{v:,.0f}\"))\n",
    ")"
   ]
  },
  {
   "cell_type": "code",
   "execution_count": null,
   "id": "0e475988",
   "metadata": {},
   "outputs": [],
   "source": []
  },
  {
   "cell_type": "code",
   "execution_count": 35,
   "id": "71ad18e9",
   "metadata": {},
   "outputs": [
    {
     "name": "stdout",
     "output_type": "stream",
     "text": [
      "✅ Saved plot: plots/top_customers.png\n"
     ]
    },
    {
     "data": {
      "image/png": "[encoded data removed]",
      "text/plain": [
       "<Figure size 800x400 with 1 Axes>"
      ]
     },
     "metadata": {},
     "output_type": "display_data"
    }
   ],
   "source": [
    "fig, ax = plt.subplots(figsize=(8,4))\n",
    "top_customers.plot(kind=\"bar\", ax=ax)\n",
    "ax.set_title(\"Top 10 Customers by Revenue\")\n",
    "ax.set_ylabel(\"Revenue (£)\")\n",
    "ax.set_xlabel(\"Customer ID\")\n",
    "plt.xticks(rotation=45)\n",
    "\n",
    "save_plot(fig, \"top_customers\")\n",
    "plt.show()"
   ]
  },
  {
   "cell_type": "code",
   "execution_count": 36,
   "id": "12410a20",
   "metadata": {},
   "outputs": [
    {
     "name": "stdout",
     "output_type": "stream",
     "text": [
      "✅ Saved plot: plots/top_countries.png\n"
     ]
    },
    {
     "data": {
      "image/png": "[encoded data removed]",
      "text/plain": [
       "<Figure size 800x400 with 1 Axes>"
      ]
     },
     "metadata": {},
     "output_type": "display_data"
    }
   ],
   "source": [
    "fig, ax = plt.subplots(figsize=(8,4))\n",
    "country_rev.head(10).plot(kind=\"bar\", ax=ax)\n",
    "ax.set_title(\"Top 10 Countries by Revenue\")\n",
    "ax.set_ylabel(\"Revenue (£)\")\n",
    "ax.set_xlabel(\"Country\")\n",
    "\n",
    "save_plot(fig, \"top_countries\")\n",
    "plt.show()"
   ]
  },
  {
   "cell_type": "code",
   "execution_count": null,
   "id": "37be77f5",
   "metadata": {},
   "outputs": [],
   "source": []
  },
  {
   "cell_type": "code",
   "execution_count": 18,
   "id": "7a318c3c",
   "metadata": {},
   "outputs": [
    {
     "data": {
      "text/html": [
       "<div>\n",
       "<style scoped>\n",
       "    .dataframe tbody tr th:only-of-type {\n",
       "        vertical-align: middle;\n",
       "    }\n",
       "\n",
       "    .dataframe tbody tr th {\n",
       "        vertical-align: top;\n",
       "    }\n",
       "\n",
       "    .dataframe thead th {\n",
       "        text-align: right;\n",
       "    }\n",
       "</style>\n",
       "<table border=\"1\" class=\"dataframe\">\n",
       "  <thead>\n",
       "    <tr style=\"text-align: right;\">\n",
       "      <th></th>\n",
       "      <th>customerid</th>\n",
       "      <th>recency</th>\n",
       "      <th>frequency</th>\n",
       "      <th>monetary</th>\n",
       "    </tr>\n",
       "  </thead>\n",
       "  <tbody>\n",
       "    <tr>\n",
       "      <th>0</th>\n",
       "      <td>12346.0</td>\n",
       "      <td>325</td>\n",
       "      <td>1</td>\n",
       "      <td>77183.60</td>\n",
       "    </tr>\n",
       "    <tr>\n",
       "      <th>1</th>\n",
       "      <td>12347.0</td>\n",
       "      <td>1</td>\n",
       "      <td>7</td>\n",
       "      <td>4310.00</td>\n",
       "    </tr>\n",
       "    <tr>\n",
       "      <th>2</th>\n",
       "      <td>12348.0</td>\n",
       "      <td>74</td>\n",
       "      <td>4</td>\n",
       "      <td>1797.24</td>\n",
       "    </tr>\n",
       "    <tr>\n",
       "      <th>3</th>\n",
       "      <td>12349.0</td>\n",
       "      <td>18</td>\n",
       "      <td>1</td>\n",
       "      <td>1757.55</td>\n",
       "    </tr>\n",
       "    <tr>\n",
       "      <th>4</th>\n",
       "      <td>12350.0</td>\n",
       "      <td>309</td>\n",
       "      <td>1</td>\n",
       "      <td>334.40</td>\n",
       "    </tr>\n",
       "  </tbody>\n",
       "</table>\n",
       "</div>"
      ],
      "text/plain": [
       "   customerid  recency  frequency  monetary\n",
       "0     12346.0      325          1  77183.60\n",
       "1     12347.0        1          7   4310.00\n",
       "2     12348.0       74          4   1797.24\n",
       "3     12349.0       18          1   1757.55\n",
       "4     12350.0      309          1    334.40"
      ]
     },
     "execution_count": 18,
     "metadata": {},
     "output_type": "execute_result"
    }
   ],
   "source": [
    "#Build RFM table\n",
    "\n",
    "from datetime import timedelta\n",
    "\n",
    "# Reference date = last date in the dataset\n",
    "ref_date = sales[\"invoicedate\"].max()\n",
    "\n",
    "rfm = (\n",
    "    sales.groupby(\"customerid\")\n",
    "    .agg(\n",
    "        recency=(\"invoicedate\", lambda x: (ref_date - x.max()).days),\n",
    "        frequency=(\"invoiceno\", \"nunique\"),\n",
    "        monetary=(\"line_total\", \"sum\")\n",
    "    )\n",
    "    .reset_index()\n",
    ")\n",
    "\n",
    "rfm.head()\n"
   ]
  },
  {
   "cell_type": "code",
   "execution_count": 37,
   "id": "6101d3a9",
   "metadata": {},
   "outputs": [
    {
     "name": "stdout",
     "output_type": "stream",
     "text": [
      "✅ Saved plot: plots/rfm_segments_count.png\n"
     ]
    },
    {
     "data": {
      "image/png": "[encoded data removed]",
      "text/plain": [
       "<Figure size 800x400 with 1 Axes>"
      ]
     },
     "metadata": {},
     "output_type": "display_data"
    },
    {
     "name": "stdout",
     "output_type": "stream",
     "text": [
      "✅ Saved plot: plots/rfm_segments_revenue.png\n"
     ]
    },
    {
     "data": {
      "image/png": "[encoded data removed]",
      "text/plain": [
       "<Figure size 800x400 with 1 Axes>"
      ]
     },
     "metadata": {},
     "output_type": "display_data"
    }
   ],
   "source": [
    "fig, ax = plt.subplots(figsize=(8,4))\n",
    "segment_summary[\"customers\"].plot(kind=\"bar\", ax=ax)\n",
    "ax.set_title(\"Customer Segments by Count\")\n",
    "ax.set_ylabel(\"Number of Customers\")\n",
    "\n",
    "save_plot(fig, \"rfm_segments_count\")\n",
    "plt.show()\n",
    "\n",
    "fig, ax = plt.subplots(figsize=(8,4))\n",
    "segment_summary[\"total_monetary\"].plot(kind=\"bar\", ax=ax)\n",
    "ax.set_title(\"Customer Segments by Revenue Contribution\")\n",
    "ax.set_ylabel(\"Total Revenue (£)\")\n",
    "\n",
    "save_plot(fig, \"rfm_segments_revenue\")\n",
    "plt.show()"
   ]
  },
  {
   "cell_type": "code",
   "execution_count": 13,
   "id": "fab588ab",
   "metadata": {},
   "outputs": [
    {
     "data": {
      "text/html": [
       "<div>\n",
       "<style scoped>\n",
       "    .dataframe tbody tr th:only-of-type {\n",
       "        vertical-align: middle;\n",
       "    }\n",
       "\n",
       "    .dataframe tbody tr th {\n",
       "        vertical-align: top;\n",
       "    }\n",
       "\n",
       "    .dataframe thead th {\n",
       "        text-align: right;\n",
       "    }\n",
       "</style>\n",
       "<table border=\"1\" class=\"dataframe\">\n",
       "  <thead>\n",
       "    <tr style=\"text-align: right;\">\n",
       "      <th></th>\n",
       "      <th>customerid</th>\n",
       "      <th>recency</th>\n",
       "      <th>frequency</th>\n",
       "      <th>monetary</th>\n",
       "      <th>R_score</th>\n",
       "      <th>F_score</th>\n",
       "      <th>M_score</th>\n",
       "      <th>RFM_Score</th>\n",
       "    </tr>\n",
       "  </thead>\n",
       "  <tbody>\n",
       "    <tr>\n",
       "      <th>0</th>\n",
       "      <td>12346.0</td>\n",
       "      <td>325</td>\n",
       "      <td>1</td>\n",
       "      <td>77183.60</td>\n",
       "      <td>1</td>\n",
       "      <td>1</td>\n",
       "      <td>5</td>\n",
       "      <td>115</td>\n",
       "    </tr>\n",
       "    <tr>\n",
       "      <th>1</th>\n",
       "      <td>12347.0</td>\n",
       "      <td>1</td>\n",
       "      <td>7</td>\n",
       "      <td>4310.00</td>\n",
       "      <td>5</td>\n",
       "      <td>5</td>\n",
       "      <td>5</td>\n",
       "      <td>555</td>\n",
       "    </tr>\n",
       "    <tr>\n",
       "      <th>2</th>\n",
       "      <td>12348.0</td>\n",
       "      <td>74</td>\n",
       "      <td>4</td>\n",
       "      <td>1797.24</td>\n",
       "      <td>2</td>\n",
       "      <td>4</td>\n",
       "      <td>4</td>\n",
       "      <td>244</td>\n",
       "    </tr>\n",
       "    <tr>\n",
       "      <th>3</th>\n",
       "      <td>12349.0</td>\n",
       "      <td>18</td>\n",
       "      <td>1</td>\n",
       "      <td>1757.55</td>\n",
       "      <td>4</td>\n",
       "      <td>1</td>\n",
       "      <td>4</td>\n",
       "      <td>414</td>\n",
       "    </tr>\n",
       "    <tr>\n",
       "      <th>4</th>\n",
       "      <td>12350.0</td>\n",
       "      <td>309</td>\n",
       "      <td>1</td>\n",
       "      <td>334.40</td>\n",
       "      <td>1</td>\n",
       "      <td>1</td>\n",
       "      <td>2</td>\n",
       "      <td>112</td>\n",
       "    </tr>\n",
       "  </tbody>\n",
       "</table>\n",
       "</div>"
      ],
      "text/plain": [
       "   customerid  recency  frequency  monetary  R_score  F_score  M_score  \\\n",
       "0     12346.0      325          1  77183.60        1        1        5   \n",
       "1     12347.0        1          7   4310.00        5        5        5   \n",
       "2     12348.0       74          4   1797.24        2        4        4   \n",
       "3     12349.0       18          1   1757.55        4        1        4   \n",
       "4     12350.0      309          1    334.40        1        1        2   \n",
       "\n",
       "  RFM_Score  \n",
       "0       115  \n",
       "1       555  \n",
       "2       244  \n",
       "3       414  \n",
       "4       112  "
      ]
     },
     "execution_count": 13,
     "metadata": {},
     "output_type": "execute_result"
    }
   ],
   "source": [
    "# Quantile-based scoring\n",
    "rfm[\"R_score\"] = pd.qcut(rfm[\"recency\"], 5, labels=[5,4,3,2,1]).astype(int)\n",
    "rfm[\"F_score\"] = pd.qcut(rfm[\"frequency\"].rank(method=\"first\"), 5, labels=[1,2,3,4,5]).astype(int)\n",
    "rfm[\"M_score\"] = pd.qcut(rfm[\"monetary\"], 5, labels=[1,2,3,4,5]).astype(int)\n",
    "\n",
    "# Combine into RFM score\n",
    "rfm[\"RFM_Score\"] = rfm[\"R_score\"].astype(str) + rfm[\"F_score\"].astype(str) + rfm[\"M_score\"].astype(str)\n",
    "rfm.head()"
   ]
  },
  {
   "cell_type": "code",
   "execution_count": 25,
   "id": "e96b1832",
   "metadata": {},
   "outputs": [
    {
     "data": {
      "text/html": [
       "<div>\n",
       "<style scoped>\n",
       "    .dataframe tbody tr th:only-of-type {\n",
       "        vertical-align: middle;\n",
       "    }\n",
       "\n",
       "    .dataframe tbody tr th {\n",
       "        vertical-align: top;\n",
       "    }\n",
       "\n",
       "    .dataframe thead th {\n",
       "        text-align: right;\n",
       "    }\n",
       "</style>\n",
       "<table border=\"1\" class=\"dataframe\">\n",
       "  <thead>\n",
       "    <tr style=\"text-align: right;\">\n",
       "      <th></th>\n",
       "      <th>customerid</th>\n",
       "      <th>recency</th>\n",
       "      <th>frequency</th>\n",
       "      <th>monetary</th>\n",
       "      <th>R_score</th>\n",
       "      <th>F_score</th>\n",
       "      <th>M_score</th>\n",
       "    </tr>\n",
       "  </thead>\n",
       "  <tbody>\n",
       "    <tr>\n",
       "      <th>0</th>\n",
       "      <td>12346.0</td>\n",
       "      <td>325</td>\n",
       "      <td>1</td>\n",
       "      <td>77183.60</td>\n",
       "      <td>1</td>\n",
       "      <td>1</td>\n",
       "      <td>5</td>\n",
       "    </tr>\n",
       "    <tr>\n",
       "      <th>1</th>\n",
       "      <td>12347.0</td>\n",
       "      <td>1</td>\n",
       "      <td>7</td>\n",
       "      <td>4310.00</td>\n",
       "      <td>5</td>\n",
       "      <td>5</td>\n",
       "      <td>5</td>\n",
       "    </tr>\n",
       "    <tr>\n",
       "      <th>2</th>\n",
       "      <td>12348.0</td>\n",
       "      <td>74</td>\n",
       "      <td>4</td>\n",
       "      <td>1797.24</td>\n",
       "      <td>2</td>\n",
       "      <td>4</td>\n",
       "      <td>4</td>\n",
       "    </tr>\n",
       "    <tr>\n",
       "      <th>3</th>\n",
       "      <td>12349.0</td>\n",
       "      <td>18</td>\n",
       "      <td>1</td>\n",
       "      <td>1757.55</td>\n",
       "      <td>4</td>\n",
       "      <td>1</td>\n",
       "      <td>4</td>\n",
       "    </tr>\n",
       "    <tr>\n",
       "      <th>4</th>\n",
       "      <td>12350.0</td>\n",
       "      <td>309</td>\n",
       "      <td>1</td>\n",
       "      <td>334.40</td>\n",
       "      <td>1</td>\n",
       "      <td>1</td>\n",
       "      <td>2</td>\n",
       "    </tr>\n",
       "  </tbody>\n",
       "</table>\n",
       "</div>"
      ],
      "text/plain": [
       "   customerid  recency  frequency  monetary  R_score  F_score  M_score\n",
       "0     12346.0      325          1  77183.60        1        1        5\n",
       "1     12347.0        1          7   4310.00        5        5        5\n",
       "2     12348.0       74          4   1797.24        2        4        4\n",
       "3     12349.0       18          1   1757.55        4        1        4\n",
       "4     12350.0      309          1    334.40        1        1        2"
      ]
     },
     "execution_count": 25,
     "metadata": {},
     "output_type": "execute_result"
    }
   ],
   "source": [
    "# Make sure base columns exist\n",
    "assert {'recency','frequency','monetary'} <= set(rfm.columns)\n",
    "\n",
    "# Recency: smaller is better → higher score\n",
    "rfm['R_score'] = pd.qcut(rfm['recency'].rank(method='first'), 5, labels=[5,4,3,2,1]).astype(int)\n",
    "\n",
    "# Frequency: bigger is better\n",
    "rfm['F_score'] = pd.qcut(rfm['frequency'].rank(method='first'), 5, labels=[1,2,3,4,5]).astype(int)\n",
    "\n",
    "# Monetary: bigger is better\n",
    "rfm['M_score'] = pd.qcut(rfm['monetary'].rank(method='first'), 5, labels=[1,2,3,4,5]).astype(int)\n",
    "\n",
    "rfm[['customerid','recency','frequency','monetary','R_score','F_score','M_score']].head()"
   ]
  },
  {
   "cell_type": "code",
   "execution_count": 26,
   "id": "1642c1ad",
   "metadata": {},
   "outputs": [
    {
     "data": {
      "text/plain": [
       "Others           1297\n",
       "At Risk          1022\n",
       "Champions         943\n",
       "Loyal             766\n",
       "New Customers     311\n",
       "Name: Segment, dtype: int64"
      ]
     },
     "execution_count": 26,
     "metadata": {},
     "output_type": "execute_result"
    }
   ],
   "source": [
    "def segment(r, f, m):\n",
    "    if r >= 4 and f >= 4 and m >= 4:\n",
    "        return \"Champions\"\n",
    "    elif r >= 3 and f >= 3 and m >= 3:\n",
    "        return \"Loyal\"\n",
    "    elif r >= 4 and f <= 2:\n",
    "        return \"New Customers\"\n",
    "    elif r <= 2 and m <= 2:\n",
    "        return \"At Risk\"\n",
    "    else:\n",
    "        return \"Others\"\n",
    "\n",
    "rfm[\"Segment\"] = rfm.apply(lambda row: segment(row[\"R_score\"], row[\"F_score\"], row[\"M_score\"]), axis=1)\n",
    "rfm[\"Segment\"].value_counts()"
   ]
  },
  {
   "cell_type": "code",
   "execution_count": 27,
   "id": "b0374cc8",
   "metadata": {},
   "outputs": [
    {
     "data": {
      "text/markdown": [
       "### 🧩 RFM Segmentation Summary\n",
       "\n",
       "**Total Customers Analyzed:** 4,339\n",
       "**Total Revenue:** £8,887,209\n",
       "\n",
       "- **Champions** → 943.0 customers (21.7% of base), avg spend £6,086, total £5,738,885\n",
       "- **Loyal** → 766.0 customers (17.7% of base), avg spend £1,861, total £1,425,494\n",
       "- **Others** → 1,297.0 customers (29.9% of base), avg spend £1,026, total £1,331,190\n",
       "- **At Risk** → 1,022.0 customers (23.6% of base), avg spend £244, total £249,400\n",
       "- **New Customers** → 311.0 customers (7.2% of base), avg spend £457, total £142,239"
      ],
      "text/plain": [
       "<IPython.core.display.Markdown object>"
      ]
     },
     "metadata": {},
     "output_type": "display_data"
    }
   ],
   "source": [
    "segment_summary = (\n",
    "    rfm.groupby(\"Segment\")\n",
    "    .agg(\n",
    "        customers=(\"customerid\", \"count\"),\n",
    "        avg_recency=(\"recency\", \"mean\"),\n",
    "        avg_frequency=(\"frequency\", \"mean\"),\n",
    "        avg_monetary=(\"monetary\", \"mean\"),\n",
    "        total_monetary=(\"monetary\", \"sum\")\n",
    "    )\n",
    "    .sort_values(\"total_monetary\", ascending=False)\n",
    ")\n",
    "\n",
    "segment_summary\n",
    "\n",
    "from IPython.display import Markdown, display\n",
    "\n",
    "report_lines = [\"### 🧩 RFM Segmentation Summary\\n\"]\n",
    "\n",
    "# total customers & revenue\n",
    "total_customers = rfm[\"customerid\"].nunique()\n",
    "total_revenue = rfm[\"monetary\"].sum()\n",
    "\n",
    "report_lines.append(f\"**Total Customers Analyzed:** {total_customers:,}\")\n",
    "report_lines.append(f\"**Total Revenue:** £{total_revenue:,.0f}\\n\")\n",
    "\n",
    "# segment breakdown\n",
    "for seg, row in segment_summary.iterrows():\n",
    "    report_lines.append(\n",
    "        f\"- **{seg}** → {row['customers']:,} customers \"\n",
    "        f\"({row['customers']/total_customers:.1%} of base), \"\n",
    "        f\"avg spend £{row['avg_monetary']:,.0f}, \"\n",
    "        f\"total £{row['total_monetary']:,.0f}\"\n",
    "    )\n",
    "\n",
    "display(Markdown(\"\\n\".join(report_lines)))"
   ]
  },
  {
   "cell_type": "code",
   "execution_count": null,
   "id": "3389132d",
   "metadata": {},
   "outputs": [],
   "source": []
  },
  {
   "cell_type": "code",
   "execution_count": null,
   "id": "1b31fd08",
   "metadata": {},
   "outputs": [],
   "source": []
  },
  {
   "cell_type": "code",
   "execution_count": null,
   "id": "f2c0811b",
   "metadata": {},
   "outputs": [],
   "source": []
  }
 ],
 "metadata": {
  "kernelspec": {
   "display_name": "Python 3 (ipykernel)",
   "language": "python",
   "name": "python3"
  },
  "language_info": {
   "codemirror_mode": {
    "name": "ipython",
    "version": 3
   },
   "file_extension": ".py",
   "mimetype": "text/x-python",
   "name": "python",
   "nbconvert_exporter": "python",
   "pygments_lexer": "ipython3",
   "version": "3.11.2"
  }
 },
 "nbformat": 4,
 "nbformat_minor": 5
}
